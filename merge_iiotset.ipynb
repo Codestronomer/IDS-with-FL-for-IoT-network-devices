{
 "cells": [
  {
   "cell_type": "code",
   "execution_count": 3,
   "id": "a97ecff4-141b-4b1d-bc46-0cff36e744ae",
   "metadata": {},
   "outputs": [
    {
     "name": "stdout",
     "output_type": "stream",
     "text": [
      "Requirement already satisfied: pandas in /Library/Frameworks/Python.framework/Versions/3.13/lib/python3.13/site-packages (2.2.3)\n",
      "Requirement already satisfied: fastparquet in /Library/Frameworks/Python.framework/Versions/3.13/lib/python3.13/site-packages (2024.11.0)\n",
      "Requirement already satisfied: numpy>=1.26.0 in /Library/Frameworks/Python.framework/Versions/3.13/lib/python3.13/site-packages (from pandas) (2.2.4)\n",
      "Requirement already satisfied: python-dateutil>=2.8.2 in /Library/Frameworks/Python.framework/Versions/3.13/lib/python3.13/site-packages (from pandas) (2.9.0.post0)\n",
      "Requirement already satisfied: pytz>=2020.1 in /Library/Frameworks/Python.framework/Versions/3.13/lib/python3.13/site-packages (from pandas) (2025.2)\n",
      "Requirement already satisfied: tzdata>=2022.7 in /Library/Frameworks/Python.framework/Versions/3.13/lib/python3.13/site-packages (from pandas) (2025.2)\n",
      "Requirement already satisfied: cramjam>=2.3 in /Library/Frameworks/Python.framework/Versions/3.13/lib/python3.13/site-packages (from fastparquet) (2.10.0)\n",
      "Requirement already satisfied: fsspec in /Library/Frameworks/Python.framework/Versions/3.13/lib/python3.13/site-packages (from fastparquet) (2025.3.2)\n",
      "Requirement already satisfied: packaging in /Library/Frameworks/Python.framework/Versions/3.13/lib/python3.13/site-packages (from fastparquet) (24.2)\n",
      "Requirement already satisfied: six>=1.5 in /Library/Frameworks/Python.framework/Versions/3.13/lib/python3.13/site-packages (from python-dateutil>=2.8.2->pandas) (1.17.0)\n",
      "\n",
      "\u001b[1m[\u001b[0m\u001b[34;49mnotice\u001b[0m\u001b[1;39;49m]\u001b[0m\u001b[39;49m A new release of pip is available: \u001b[0m\u001b[31;49m24.3.1\u001b[0m\u001b[39;49m -> \u001b[0m\u001b[32;49m25.1\u001b[0m\n",
      "\u001b[1m[\u001b[0m\u001b[34;49mnotice\u001b[0m\u001b[1;39;49m]\u001b[0m\u001b[39;49m To update, run: \u001b[0m\u001b[32;49mpip3 install --upgrade pip\u001b[0m\n",
      "Note: you may need to restart the kernel to use updated packages.\n"
     ]
    }
   ],
   "source": [
    "pip install pandas fastparquet"
   ]
  },
  {
   "cell_type": "code",
   "execution_count": 4,
   "id": "214a45fd-d5c5-4dda-b0f4-e6a598f6e0ab",
   "metadata": {},
   "outputs": [],
   "source": [
    "import os\n",
    "import glob\n",
    "import pandas as pd"
   ]
  },
  {
   "cell_type": "code",
   "execution_count": 5,
   "id": "2ae8737c-1f33-4bff-b673-d5e0979df29e",
   "metadata": {},
   "outputs": [
    {
     "data": {
      "text/html": [
       "<div>\n",
       "<style scoped>\n",
       "    .dataframe tbody tr th:only-of-type {\n",
       "        vertical-align: middle;\n",
       "    }\n",
       "\n",
       "    .dataframe tbody tr th {\n",
       "        vertical-align: top;\n",
       "    }\n",
       "\n",
       "    .dataframe thead th {\n",
       "        text-align: right;\n",
       "    }\n",
       "</style>\n",
       "<table border=\"1\" class=\"dataframe\">\n",
       "  <thead>\n",
       "    <tr style=\"text-align: right;\">\n",
       "      <th></th>\n",
       "      <th>frame.time</th>\n",
       "      <th>ip.src_host</th>\n",
       "      <th>ip.dst_host</th>\n",
       "      <th>arp.dst.proto_ipv4</th>\n",
       "      <th>arp.opcode</th>\n",
       "      <th>arp.hw.size</th>\n",
       "      <th>arp.src.proto_ipv4</th>\n",
       "      <th>icmp.checksum</th>\n",
       "      <th>icmp.seq_le</th>\n",
       "      <th>icmp.transmit_timestamp</th>\n",
       "      <th>...</th>\n",
       "      <th>mqtt.proto_len</th>\n",
       "      <th>mqtt.protoname</th>\n",
       "      <th>mqtt.topic</th>\n",
       "      <th>mqtt.topic_len</th>\n",
       "      <th>mqtt.ver</th>\n",
       "      <th>mbtcp.len</th>\n",
       "      <th>mbtcp.trans_id</th>\n",
       "      <th>mbtcp.unit_id</th>\n",
       "      <th>Attack_label</th>\n",
       "      <th>Attack_type</th>\n",
       "    </tr>\n",
       "  </thead>\n",
       "  <tbody>\n",
       "    <tr>\n",
       "      <th>0</th>\n",
       "      <td>2021 23:08:32.886770000</td>\n",
       "      <td>0</td>\n",
       "      <td>0</td>\n",
       "      <td>0</td>\n",
       "      <td>0.0</td>\n",
       "      <td>0.0</td>\n",
       "      <td>0</td>\n",
       "      <td>0.0</td>\n",
       "      <td>0.0</td>\n",
       "      <td>0.0</td>\n",
       "      <td>...</td>\n",
       "      <td>0.0</td>\n",
       "      <td>0.0</td>\n",
       "      <td>0.0</td>\n",
       "      <td>0.0</td>\n",
       "      <td>0.0</td>\n",
       "      <td>0.0</td>\n",
       "      <td>0.0</td>\n",
       "      <td>0.0</td>\n",
       "      <td>1</td>\n",
       "      <td>Uploading</td>\n",
       "    </tr>\n",
       "    <tr>\n",
       "      <th>1</th>\n",
       "      <td>2021 23:08:50.404118000</td>\n",
       "      <td>192.168.0.170</td>\n",
       "      <td>192.168.0.128</td>\n",
       "      <td>0</td>\n",
       "      <td>0.0</td>\n",
       "      <td>0.0</td>\n",
       "      <td>0</td>\n",
       "      <td>0.0</td>\n",
       "      <td>0.0</td>\n",
       "      <td>0.0</td>\n",
       "      <td>...</td>\n",
       "      <td>0.0</td>\n",
       "      <td>0.0</td>\n",
       "      <td>0.0</td>\n",
       "      <td>0.0</td>\n",
       "      <td>0.0</td>\n",
       "      <td>0.0</td>\n",
       "      <td>0.0</td>\n",
       "      <td>0.0</td>\n",
       "      <td>1</td>\n",
       "      <td>Uploading</td>\n",
       "    </tr>\n",
       "    <tr>\n",
       "      <th>2</th>\n",
       "      <td>2021 23:08:50.405050000</td>\n",
       "      <td>192.168.0.128</td>\n",
       "      <td>192.168.0.170</td>\n",
       "      <td>0</td>\n",
       "      <td>0.0</td>\n",
       "      <td>0.0</td>\n",
       "      <td>0</td>\n",
       "      <td>0.0</td>\n",
       "      <td>0.0</td>\n",
       "      <td>0.0</td>\n",
       "      <td>...</td>\n",
       "      <td>0.0</td>\n",
       "      <td>0.0</td>\n",
       "      <td>0.0</td>\n",
       "      <td>0.0</td>\n",
       "      <td>0.0</td>\n",
       "      <td>0.0</td>\n",
       "      <td>0.0</td>\n",
       "      <td>0.0</td>\n",
       "      <td>1</td>\n",
       "      <td>Uploading</td>\n",
       "    </tr>\n",
       "    <tr>\n",
       "      <th>3</th>\n",
       "      <td>2021 23:08:50.405398000</td>\n",
       "      <td>192.168.0.128</td>\n",
       "      <td>192.168.0.170</td>\n",
       "      <td>0</td>\n",
       "      <td>0.0</td>\n",
       "      <td>0.0</td>\n",
       "      <td>0</td>\n",
       "      <td>0.0</td>\n",
       "      <td>0.0</td>\n",
       "      <td>0.0</td>\n",
       "      <td>...</td>\n",
       "      <td>0.0</td>\n",
       "      <td>0.0</td>\n",
       "      <td>0.0</td>\n",
       "      <td>0.0</td>\n",
       "      <td>0.0</td>\n",
       "      <td>0.0</td>\n",
       "      <td>0.0</td>\n",
       "      <td>0.0</td>\n",
       "      <td>1</td>\n",
       "      <td>Uploading</td>\n",
       "    </tr>\n",
       "    <tr>\n",
       "      <th>4</th>\n",
       "      <td>2021 23:08:50.409978000</td>\n",
       "      <td>192.168.0.170</td>\n",
       "      <td>192.168.0.128</td>\n",
       "      <td>0</td>\n",
       "      <td>0.0</td>\n",
       "      <td>0.0</td>\n",
       "      <td>0</td>\n",
       "      <td>0.0</td>\n",
       "      <td>0.0</td>\n",
       "      <td>0.0</td>\n",
       "      <td>...</td>\n",
       "      <td>0.0</td>\n",
       "      <td>0.0</td>\n",
       "      <td>0.0</td>\n",
       "      <td>0.0</td>\n",
       "      <td>0.0</td>\n",
       "      <td>0.0</td>\n",
       "      <td>0.0</td>\n",
       "      <td>0.0</td>\n",
       "      <td>1</td>\n",
       "      <td>Uploading</td>\n",
       "    </tr>\n",
       "  </tbody>\n",
       "</table>\n",
       "<p>5 rows × 63 columns</p>\n",
       "</div>"
      ],
      "text/plain": [
       "                  frame.time    ip.src_host    ip.dst_host arp.dst.proto_ipv4  \\\n",
       "0   2021 23:08:32.886770000               0              0                  0   \n",
       "1   2021 23:08:50.404118000   192.168.0.170  192.168.0.128                  0   \n",
       "2   2021 23:08:50.405050000   192.168.0.128  192.168.0.170                  0   \n",
       "3   2021 23:08:50.405398000   192.168.0.128  192.168.0.170                  0   \n",
       "4   2021 23:08:50.409978000   192.168.0.170  192.168.0.128                  0   \n",
       "\n",
       "  arp.opcode arp.hw.size arp.src.proto_ipv4 icmp.checksum icmp.seq_le  \\\n",
       "0        0.0         0.0                  0           0.0         0.0   \n",
       "1        0.0         0.0                  0           0.0         0.0   \n",
       "2        0.0         0.0                  0           0.0         0.0   \n",
       "3        0.0         0.0                  0           0.0         0.0   \n",
       "4        0.0         0.0                  0           0.0         0.0   \n",
       "\n",
       "  icmp.transmit_timestamp  ...  mqtt.proto_len mqtt.protoname  mqtt.topic  \\\n",
       "0                     0.0  ...             0.0            0.0         0.0   \n",
       "1                     0.0  ...             0.0            0.0         0.0   \n",
       "2                     0.0  ...             0.0            0.0         0.0   \n",
       "3                     0.0  ...             0.0            0.0         0.0   \n",
       "4                     0.0  ...             0.0            0.0         0.0   \n",
       "\n",
       "  mqtt.topic_len mqtt.ver mbtcp.len mbtcp.trans_id mbtcp.unit_id  \\\n",
       "0            0.0      0.0       0.0            0.0           0.0   \n",
       "1            0.0      0.0       0.0            0.0           0.0   \n",
       "2            0.0      0.0       0.0            0.0           0.0   \n",
       "3            0.0      0.0       0.0            0.0           0.0   \n",
       "4            0.0      0.0       0.0            0.0           0.0   \n",
       "\n",
       "   Attack_label  Attack_type  \n",
       "0             1    Uploading  \n",
       "1             1    Uploading  \n",
       "2             1    Uploading  \n",
       "3             1    Uploading  \n",
       "4             1    Uploading  \n",
       "\n",
       "[5 rows x 63 columns]"
      ]
     },
     "execution_count": 5,
     "metadata": {},
     "output_type": "execute_result"
    }
   ],
   "source": [
    "base_directory_path = '/Users/macbookpro/Downloads/Edge IIoTset/Edge-IIoTset dataset/'\n",
    "attack_directory = 'Attack traffic'\n",
    "normal_directory = 'Normal traffic'\n",
    "\n",
    "# csv_files = [file for file in os.listdir(base_directory_path+attack_directory) if file.endswith('.csv')]\n",
    "csv_files = []\n",
    "csv_files.extend(glob.glob(base_directory_path+attack_directory+'/*.csv'))\n",
    "csv_files.extend(glob.glob(base_directory_path+normal_directory+'/**/*.csv'))\n",
    "\n",
    "dfs = []\n",
    "\n",
    "for file in csv_files:\n",
    "    df = pd.read_csv(file, low_memory=False)\n",
    "    dfs.append(df)\n",
    "\n",
    "# Concatenate all Dataframes together\n",
    "merged_df = pd.concat(dfs, ignore_index=True)\n",
    "merged_df.head()"
   ]
  },
  {
   "cell_type": "code",
   "execution_count": 16,
   "id": "1ed10100-bebf-46bd-a210-95e7c37eba82",
   "metadata": {},
   "outputs": [
    {
     "name": "stdout",
     "output_type": "stream",
     "text": [
      "Shape before deduplication:  (20939622, 63)\n",
      "Shape after deduplication:  (19230495, 63)\n"
     ]
    }
   ],
   "source": [
    "print(\"Shape before deduplication: \", merged_df.shape)\n",
    "\n",
    "# Remove duplicates\n",
    "merged_df.drop_duplicates(inplace=True)\n",
    "\n",
    "print(\"Shape after deduplication: \", merged_df.shape)"
   ]
  },
  {
   "cell_type": "code",
   "execution_count": 9,
   "id": "85afc132-08b7-445d-9a2b-3f3dfa7b6db4",
   "metadata": {},
   "outputs": [],
   "source": [
    "# Save merged data to file\n",
    "merged_df.to_csv('merged_edge_iiotset.csv', index=False)"
   ]
  },
  {
   "cell_type": "code",
   "execution_count": 10,
   "id": "d6216447-8071-4006-9e46-7ac392758dd0",
   "metadata": {},
   "outputs": [
    {
     "name": "stdout",
     "output_type": "stream",
     "text": [
      "Successfully merged 24 files into 'merged_edge_iiotset.csv'\n"
     ]
    }
   ],
   "source": [
    "print(f\"Successfully merged {len(csv_files)} files into 'merged_edge_iiotset.csv'\")"
   ]
  },
  {
   "cell_type": "code",
   "execution_count": 11,
   "id": "a75d283b-35d6-4c19-ac4d-e1449a5d7ea9",
   "metadata": {},
   "outputs": [
    {
     "name": "stderr",
     "output_type": "stream",
     "text": [
      "/var/folders/zg/s7wmysys2h33l8v23xsdpdwc0000gn/T/ipykernel_2876/3573307581.py:1: UserWarning: Could not infer format, so each element will be parsed individually, falling back to `dateutil`. To ensure parsing is consistent and as-expected, please specify a format.\n",
      "  merged_df[\"frame.time\"] = pd.to_datetime(df[\"frame.time\"], errors=\"coerce\")\n"
     ]
    }
   ],
   "source": [
    "merged_df[\"frame.time\"] = pd.to_datetime(df[\"frame.time\"], errors=\"coerce\")"
   ]
  },
  {
   "cell_type": "code",
   "execution_count": 14,
   "id": "44f46037-4446-47bb-8b52-2367d583ac90",
   "metadata": {},
   "outputs": [],
   "source": [
    "merged_df[\"ip.dst_host\"] = merged_df[\"ip.dst_host\"].astype(str)"
   ]
  },
  {
   "cell_type": "code",
   "execution_count": 28,
   "id": "031ea6c2-368d-493c-ac8a-e8cc8bba95e4",
   "metadata": {},
   "outputs": [],
   "source": [
    "object_columns = merged_df.select_dtypes(include=\"object\").columns"
   ]
  },
  {
   "cell_type": "code",
   "execution_count": 29,
   "id": "6fa07305-d793-4d42-9f7c-78d27228690a",
   "metadata": {},
   "outputs": [],
   "source": [
    "for col in object_columns:\n",
    "    merged_df[col] = merged_df[col].astype(str)"
   ]
  },
  {
   "cell_type": "code",
   "execution_count": 30,
   "id": "be9c0f2f-987f-4daf-917b-b977913d96cc",
   "metadata": {
    "scrolled": true
   },
   "outputs": [],
   "source": [
    "# Save to Parquet\n",
    "merged_df.to_parquet(\"edge_iiotset.parquet\", index=False)"
   ]
  },
  {
   "cell_type": "code",
   "execution_count": null,
   "id": "08bc0566-ddcb-475b-a5ac-f5bdc8f731e7",
   "metadata": {},
   "outputs": [],
   "source": []
  }
 ],
 "metadata": {
  "kernelspec": {
   "display_name": "Python 3 (ipykernel)",
   "language": "python",
   "name": "python3"
  },
  "language_info": {
   "codemirror_mode": {
    "name": "ipython",
    "version": 3
   },
   "file_extension": ".py",
   "mimetype": "text/x-python",
   "name": "python",
   "nbconvert_exporter": "python",
   "pygments_lexer": "ipython3",
   "version": "3.13.1"
  }
 },
 "nbformat": 4,
 "nbformat_minor": 5
}
